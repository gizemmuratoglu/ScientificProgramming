{
 "cells": [
  {
   "cell_type": "markdown",
   "id": "30fd7821",
   "metadata": {},
   "source": [
    "# EX 2.1"
   ]
  },
  {
   "cell_type": "code",
   "execution_count": 1,
   "id": "c0e50730",
   "metadata": {},
   "outputs": [
    {
     "data": {
      "text/plain": [
       "range"
      ]
     },
     "execution_count": 1,
     "metadata": {},
     "output_type": "execute_result"
    }
   ],
   "source": [
    "type(range(5))"
   ]
  },
  {
   "cell_type": "code",
   "execution_count": 2,
   "id": "09d356cf",
   "metadata": {},
   "outputs": [
    {
     "name": "stdout",
     "output_type": "stream",
     "text": [
      "0\n",
      "1\n",
      "2\n",
      "3\n",
      "4\n"
     ]
    }
   ],
   "source": [
    "for i in range(5):\n",
    "    print(i)"
   ]
  },
  {
   "cell_type": "markdown",
   "id": "5d6e8739",
   "metadata": {},
   "source": [
    "# EX 2.2"
   ]
  },
  {
   "cell_type": "code",
   "execution_count": 3,
   "id": "afb29c3b",
   "metadata": {},
   "outputs": [
    {
     "name": "stdout",
     "output_type": "stream",
     "text": [
      "0\n",
      "1\n",
      "2\n",
      "3\n",
      "4\n",
      "5\n",
      "6\n",
      "7\n",
      "8\n",
      "9\n",
      "10\n",
      "11\n",
      "12\n",
      "13\n",
      "14\n",
      "15\n",
      "16\n",
      "17\n",
      "18\n",
      "19\n",
      "20\n",
      "21\n",
      "22\n",
      "23\n",
      "24\n",
      "25\n",
      "26\n",
      "27\n",
      "28\n",
      "29\n",
      "30\n",
      "31\n",
      "32\n",
      "33\n",
      "34\n",
      "35\n",
      "36\n",
      "37\n",
      "38\n",
      "39\n",
      "40\n",
      "41\n",
      "42\n",
      "43\n",
      "44\n",
      "45\n",
      "46\n",
      "47\n",
      "48\n",
      "49\n",
      "50\n",
      "51\n",
      "52\n",
      "53\n",
      "54\n",
      "55\n",
      "56\n",
      "57\n",
      "58\n",
      "59\n",
      "60\n",
      "61\n",
      "62\n",
      "63\n",
      "64\n",
      "65\n",
      "66\n",
      "67\n",
      "68\n",
      "69\n",
      "70\n",
      "71\n",
      "72\n",
      "73\n",
      "74\n",
      "75\n",
      "76\n",
      "77\n",
      "78\n",
      "79\n",
      "80\n",
      "81\n",
      "82\n",
      "83\n",
      "84\n",
      "85\n",
      "86\n",
      "87\n",
      "88\n",
      "89\n",
      "90\n",
      "91\n",
      "92\n",
      "93\n",
      "94\n",
      "95\n",
      "96\n",
      "97\n",
      "98\n",
      "99\n"
     ]
    }
   ],
   "source": [
    "for i in range(100):\n",
    "    print(i)"
   ]
  },
  {
   "cell_type": "code",
   "execution_count": 4,
   "id": "a8af8e98",
   "metadata": {},
   "outputs": [
    {
     "name": "stdout",
     "output_type": "stream",
     "text": [
      "0\n",
      "7\n",
      "14\n",
      "21\n",
      "28\n",
      "35\n",
      "42\n",
      "49\n",
      "56\n",
      "63\n",
      "70\n",
      "77\n",
      "84\n",
      "91\n",
      "98\n"
     ]
    }
   ],
   "source": [
    "for i in range (100):\n",
    "    if i%7==0:\n",
    "        print(i)"
   ]
  },
  {
   "cell_type": "code",
   "execution_count": 11,
   "id": "b715d665",
   "metadata": {},
   "outputs": [
    {
     "name": "stdout",
     "output_type": "stream",
     "text": [
      "5\n",
      "10\n",
      "20\n",
      "25\n",
      "35\n",
      "40\n",
      "50\n",
      "55\n",
      "65\n",
      "70\n",
      "80\n",
      "85\n",
      "95\n"
     ]
    }
   ],
   "source": [
    "for i in range(100):\n",
    "    if i%5==0:\n",
    "        if i%3!=0:\n",
    "            print(i)"
   ]
  },
  {
   "cell_type": "code",
   "execution_count": 12,
   "id": "5ef7bd3a",
   "metadata": {},
   "outputs": [
    {
     "name": "stdout",
     "output_type": "stream",
     "text": [
      "2 \n",
      "3 \n",
      "2 4 \n",
      "5 \n",
      "2 3 6 \n",
      "7 \n",
      "2 4 8 \n",
      "3 9 \n",
      "2 5 \n",
      "\n",
      "2 3 4 6 \n",
      "\n",
      "2 7 \n",
      "3 5 \n",
      "2 4 8 \n",
      "\n",
      "2 3 6 9 \n",
      "\n"
     ]
    }
   ],
   "source": [
    "for i in range(2,20):\n",
    "    a=''\n",
    "    if i%2==0:\n",
    "        a+='2 '\n",
    "    if i%3==0:\n",
    "        a+='3 '\n",
    "    if i%4==0:\n",
    "        a+='4 ' \n",
    "    if i%5==0:\n",
    "        a+='5 ' \n",
    "    if i%6==0:\n",
    "        a+='6 ' \n",
    "    if i%7==0:\n",
    "        a+='7 ' \n",
    "    if i%8==0:\n",
    "        a+='8 '\n",
    "    if i%9==0:\n",
    "        a+='9 '\n",
    "    print(a)"
   ]
  },
  {
   "cell_type": "markdown",
   "id": "d97eee1c",
   "metadata": {},
   "source": [
    "# EX 2.3\n",
    " "
   ]
  },
  {
   "cell_type": "code",
   "execution_count": 13,
   "id": "9c89d7c3",
   "metadata": {},
   "outputs": [
    {
     "name": "stdout",
     "output_type": "stream",
     "text": [
      "0\n",
      "1\n",
      "2\n",
      "3\n",
      "4\n",
      "5\n",
      "6\n",
      "7\n",
      "8\n",
      "9\n",
      "10\n",
      "11\n",
      "12\n",
      "13\n",
      "14\n",
      "15\n",
      "16\n",
      "17\n",
      "18\n",
      "19\n",
      "20\n",
      "21\n",
      "22\n",
      "23\n",
      "24\n",
      "25\n",
      "26\n",
      "27\n",
      "28\n",
      "29\n",
      "30\n",
      "31\n",
      "32\n",
      "33\n",
      "34\n",
      "35\n",
      "36\n",
      "37\n",
      "38\n",
      "39\n",
      "40\n",
      "41\n",
      "42\n",
      "43\n",
      "44\n",
      "45\n",
      "46\n",
      "47\n",
      "48\n",
      "49\n",
      "50\n",
      "51\n",
      "52\n",
      "53\n",
      "54\n",
      "55\n",
      "56\n",
      "57\n",
      "58\n",
      "59\n",
      "60\n",
      "61\n",
      "62\n",
      "63\n",
      "64\n",
      "65\n",
      "66\n",
      "67\n",
      "68\n",
      "69\n",
      "70\n",
      "71\n",
      "72\n",
      "73\n",
      "74\n",
      "75\n",
      "76\n",
      "77\n",
      "78\n",
      "79\n",
      "80\n",
      "81\n",
      "82\n",
      "83\n",
      "84\n",
      "85\n",
      "86\n",
      "87\n",
      "88\n",
      "89\n",
      "90\n",
      "91\n",
      "92\n",
      "93\n",
      "94\n",
      "95\n",
      "96\n",
      "97\n",
      "98\n",
      "99\n"
     ]
    }
   ],
   "source": [
    "for i in range(100):\n",
    "    print(i)"
   ]
  },
  {
   "cell_type": "code",
   "execution_count": 14,
   "id": "a09921f9",
   "metadata": {},
   "outputs": [
    {
     "name": "stdout",
     "output_type": "stream",
     "text": [
      "0\n",
      "7\n",
      "14\n",
      "21\n",
      "28\n",
      "35\n",
      "42\n",
      "49\n",
      "56\n",
      "63\n",
      "70\n",
      "77\n",
      "84\n",
      "91\n",
      "98\n"
     ]
    }
   ],
   "source": [
    "for i in range(100):\n",
    "    if i%7==0:\n",
    "        print(i)"
   ]
  },
  {
   "cell_type": "markdown",
   "id": "4f280d2e",
   "metadata": {},
   "source": [
    "# EX 2.5"
   ]
  },
  {
   "cell_type": "code",
   "execution_count": 15,
   "id": "fdb1a307",
   "metadata": {},
   "outputs": [],
   "source": [
    "number_found=0\n",
    "i = 1\n",
    "while i < 20:\n",
    "    if i%5==0 and i%7==0 and i%11==0:\n",
    "        print(i)\n",
    "        ++number_found\n",
    "    i += 1"
   ]
  },
  {
   "cell_type": "markdown",
   "id": "0a0bd922",
   "metadata": {},
   "source": [
    "# EX 2.6"
   ]
  },
  {
   "cell_type": "code",
   "execution_count": 16,
   "id": "3d92638d",
   "metadata": {},
   "outputs": [
    {
     "name": "stdout",
     "output_type": "stream",
     "text": [
      "2520.0\n"
     ]
    }
   ],
   "source": [
    "def gcd(x,y): \n",
    "    return y and gcd(y, x % y) or x\n",
    "def lcm(x,y): \n",
    "    return x * y / gcd(x,y)\n",
    "\n",
    "n = 1\n",
    "for i in range(1, 10):\n",
    "     n = lcm(n, i)\n",
    "print(n)"
   ]
  },
  {
   "cell_type": "markdown",
   "id": "eb77772e",
   "metadata": {},
   "source": [
    "# EX 2.7"
   ]
  },
  {
   "cell_type": "code",
   "execution_count": 18,
   "id": "cb0efb1c",
   "metadata": {},
   "outputs": [
    {
     "name": "stdout",
     "output_type": "stream",
     "text": [
      "101 304 152 76 38 19 58 29 88 44 22 11 34 17 52 26 13 40 20 10 5 16 8 4 2 1\n"
     ]
    }
   ],
   "source": [
    "def collatzSequence(n):\n",
    "    while n != 1:\n",
    "        print(n, end = ' ')\n",
    "        if n %2 == 1:\n",
    "            n = 3 * n + 1\n",
    "\n",
    "        else:\n",
    "            n = n // 2\n",
    "    print(n)\n",
    "\n",
    "collatzSequence(101)"
   ]
  },
  {
   "cell_type": "code",
   "execution_count": null,
   "id": "d6d2624f",
   "metadata": {},
   "outputs": [],
   "source": []
  }
 ],
 "metadata": {
  "kernelspec": {
   "display_name": "Python 3 (ipykernel)",
   "language": "python",
   "name": "python3"
  },
  "language_info": {
   "codemirror_mode": {
    "name": "ipython",
    "version": 3
   },
   "file_extension": ".py",
   "mimetype": "text/x-python",
   "name": "python",
   "nbconvert_exporter": "python",
   "pygments_lexer": "ipython3",
   "version": "3.9.7"
  }
 },
 "nbformat": 4,
 "nbformat_minor": 5
}
