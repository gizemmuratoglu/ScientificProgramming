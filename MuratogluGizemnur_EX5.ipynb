{
 "cells": [
  {
   "cell_type": "markdown",
   "id": "474e81e8",
   "metadata": {},
   "source": [
    "# EX 5.1"
   ]
  },
  {
   "cell_type": "code",
   "execution_count": 1,
   "id": "c6c8f1f0",
   "metadata": {},
   "outputs": [
    {
     "name": "stdout",
     "output_type": "stream",
     "text": [
      "[11, 22, 33]\n"
     ]
    }
   ],
   "source": [
    "x = [1,2,3]\n",
    "y = [11,22,33]\n",
    "\n",
    "x[:], y[:] = y[:], x[:]\n",
    "print(x)"
   ]
  },
  {
   "cell_type": "code",
   "execution_count": null,
   "id": "4db47a41",
   "metadata": {},
   "outputs": [],
   "source": []
  }
 ],
 "metadata": {
  "kernelspec": {
   "display_name": "Python 3 (ipykernel)",
   "language": "python",
   "name": "python3"
  },
  "language_info": {
   "codemirror_mode": {
    "name": "ipython",
    "version": 3
   },
   "file_extension": ".py",
   "mimetype": "text/x-python",
   "name": "python",
   "nbconvert_exporter": "python",
   "pygments_lexer": "ipython3",
   "version": "3.9.7"
  }
 },
 "nbformat": 4,
 "nbformat_minor": 5
}
