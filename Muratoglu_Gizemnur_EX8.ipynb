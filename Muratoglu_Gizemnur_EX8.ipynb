{
 "cells": [
  {
   "cell_type": "markdown",
   "id": "876e1507",
   "metadata": {},
   "source": [
    "# EX 8.1"
   ]
  },
  {
   "cell_type": "code",
   "execution_count": 89,
   "id": "9a556300",
   "metadata": {},
   "outputs": [
    {
     "name": "stdout",
     "output_type": "stream",
     "text": [
      "3 / 36\n"
     ]
    }
   ],
   "source": [
    "from fractions import Fraction\n",
    "class Rational:\n",
    "    def __init__(self,nominator,denominator):\n",
    "        self.nominator = nominator\n",
    "        self.denominator = denominator\n",
    "    def __str__(self):\n",
    "        print(self.nominator,\"/\",self.denominator)\n",
    "\n",
    "p1 = Rational(3, 36)\n",
    "p1.__str__()\n"
   ]
  },
  {
   "cell_type": "code",
   "execution_count": 101,
   "id": "fce1e8a6",
   "metadata": {},
   "outputs": [
    {
     "name": "stdout",
     "output_type": "stream",
     "text": [
      "Add : 12/3\n",
      "sub : 0/3\n",
      "mult : 12/3\n",
      "mult : 6/6\n",
      "mult : True\n",
      "mult : 2.0\n"
     ]
    }
   ],
   "source": [
    "from fractions import Fraction\n",
    "import math\n",
    "class Rational:\n",
    "    def __init__(self,nominator,denominator):\n",
    "        self.nominator = nominator\n",
    "        self.denominator = denominator\n",
    "    \n",
    "    #PRINT AS FRACTION\n",
    "    def __str__(self):\n",
    "        return str(self.nominator)+\"/\"+str(self.denominator)\n",
    "    \n",
    "    def __flt__(self):\n",
    "        return float(self.nominator/self.denominator)\n",
    "    \n",
    "    #SIMPLIFICATION\n",
    "    def simp(self):\n",
    "        divisor=math.gcd(self.nominator,self.denominator)\n",
    "        p=int(self.nominator/divisor)\n",
    "        q=int(self.denominator/divisor)\n",
    "        return Rational(p,q)\n",
    "        \n",
    "        #ADDITION\n",
    "    def __add__(self, param_Rational):\n",
    "        the_lcm = math.lcm(self.denominator, param_Rational.denominator)\n",
    "        nominator_sum = the_lcm*self.nominator/self.denominator + \\\n",
    "                    the_lcm*param_Rational.nominator/param_Rational.denominator\n",
    "        return Rational( int(nominator_sum), the_lcm )\n",
    "    \n",
    "    def __sub__(self, param_Rational):\n",
    "        \n",
    "        the_lcm = math.lcm(self.denominator, param_Rational.denominator)\n",
    "        nominator_sum = the_lcm*self.nominator/self.denominator - \\\n",
    "                    the_lcm*param_Rational.nominator/param_Rational.denominator\n",
    "        return Rational( int(nominator_sum), the_lcm )\n",
    "                    \n",
    "    def __mul__(self, param_Rational):\n",
    "        nominator_mul =int(self.nominator) * int(param_Rational.nominator)\n",
    "        denominator_mul =int(self.denominator) * int(param_Rational.denominator)\n",
    "        return Rational(int( nominator_mul), int(denominator_mul) )\n",
    "    \n",
    "    def __div__(self, param_Rational):\n",
    "       \n",
    "        nom_mul = self.nominator * param_Rational.denominator\n",
    "        denominator_mul = self.denominator * param_Rational.nominator\n",
    "        return Rational( int( nom_mul), int(denominator_mul))\n",
    "    \n",
    "    def __eq__(self, param_Rational):\n",
    "        reduced_self  = self.simp()\n",
    "        reduced_param = param_Rational.simp()\n",
    "        a=bool(reduced_self.nominator == reduced_param.nominator and\\\n",
    "               reduced_self.denominator == reduced_param.denominator)\n",
    "        return a\n",
    "    \n",
    "\n",
    "        \n",
    "    \n",
    "p1 = Rational(6, 3)\n",
    "p2=Rational(2,1)\n",
    "print(\"Add :\",p1.__add__(p2))\n",
    "print(\"sub :\",p1.__sub__(p2))\n",
    "print(\"mult :\",p1.__mul__(p2))\n",
    "print(\"mult :\",p1.__div__(p2))\n",
    "print(\"mult :\",p1.__eq__(p2))\n",
    "print(\"mult :\",p2.__flt__())"
   ]
  },
  {
   "cell_type": "markdown",
   "id": "6a3e7602",
   "metadata": {},
   "source": [
    "# EX 8.2"
   ]
  },
  {
   "cell_type": "code",
   "execution_count": null,
   "id": "b17f9878",
   "metadata": {},
   "outputs": [],
   "source": [
    "def compare(self, move1, move2):\n",
    "    # returns 1 if move1 wins, 0 if it's a tie, and -1 if move2 wins\n",
    "    if (move1 == 'r' and move2 == 's') or (move1 == 'p' and move2 == 'r') or (move1 == 's' and move2 == 'p') :\n",
    "        return 1\n",
    "    elif (move2 == 'r' and move1 == 's')  or (move2 == 'p' and move1 == 'r') or (move2 == 's' and move1 == 'p'):\n",
    "        return -1\n",
    "    else:\n",
    "        return 0"
   ]
  },
  {
   "cell_type": "code",
   "execution_count": null,
   "id": "2ebc57ba",
   "metadata": {},
   "outputs": [],
   "source": [
    "def getMove(self, moves_other, moves_self):\n",
    "    moveTypes = ['r', 'p', 's']\n",
    "    move = ''\n",
    "    while True:\n",
    "        theMove = str(input('\\tEnter your move as r,p or s >>  ')).lower()\n",
    "        if theMove in moveTypes:\n",
    "            move = theMove\n",
    "            break\n",
    "        else:\n",
    "            print('INVALID MOVE')\n",
    "    return move"
   ]
  },
  {
   "cell_type": "code",
   "execution_count": null,
   "id": "b418da2e",
   "metadata": {},
   "outputs": [],
   "source": [
    "class MyAgent(Agent):\n",
    "    #prock and pscissor is implemented in instructor agent class' init function. p_scissor and p_rock equal to these global values. \n",
    "    def getMove(self, moves_other, moves_self):\n",
    "        random_move = random.random()\n",
    "        if random_move < prock:\n",
    "            return 's'\n",
    "        elif random_move < pscissor:\n",
    "            return 's'\n",
    "        else:\n",
    "            return 'p'"
   ]
  },
  {
   "cell_type": "markdown",
   "id": "89966389",
   "metadata": {},
   "source": [
    "# EX 8.3"
   ]
  },
  {
   "cell_type": "code",
   "execution_count": null,
   "id": "c7e8ae1c",
   "metadata": {},
   "outputs": [],
   "source": []
  },
  {
   "cell_type": "markdown",
   "id": "8e7a72fd",
   "metadata": {},
   "source": [
    "# EX 8.4"
   ]
  },
  {
   "cell_type": "code",
   "execution_count": null,
   "id": "b3300f6b",
   "metadata": {},
   "outputs": [],
   "source": []
  },
  {
   "cell_type": "markdown",
   "id": "d0f52081",
   "metadata": {},
   "source": [
    "# EX 8.5"
   ]
  },
  {
   "cell_type": "code",
   "execution_count": null,
   "id": "d1cbe4f1",
   "metadata": {},
   "outputs": [],
   "source": []
  },
  {
   "cell_type": "markdown",
   "id": "8dc93e3c",
   "metadata": {},
   "source": [
    "# EX 8.6"
   ]
  },
  {
   "cell_type": "code",
   "execution_count": 99,
   "id": "7253d0cd",
   "metadata": {},
   "outputs": [
    {
     "name": "stdout",
     "output_type": "stream",
     "text": [
      "5\n",
      "10\n",
      "21\n",
      "25\n",
      "48\n",
      "55\n",
      "100\n"
     ]
    }
   ],
   "source": [
    "class Node:\n",
    "    def __init__(self, key):\n",
    "        self.left = None\n",
    "        self.right = None\n",
    "        self.val = key\n",
    "\n",
    "def insert(root, key):\n",
    "    if root is None:\n",
    "        return Node(key)\n",
    "    else:\n",
    "        if root.val == key:\n",
    "            return root\n",
    "        elif root.val < key:\n",
    "            root.right = insert(root.right, key)\n",
    "        else:\n",
    "            root.left = insert(root.left, key)\n",
    "    return root\n",
    "\n",
    "def inorder(root):\n",
    "    if root:\n",
    "        inorder(root.left)\n",
    "        print(root.val)\n",
    "        inorder(root.right)\n",
    "\n",
    "r = Node(48)\n",
    "r = insert(r, 10)\n",
    "r = insert(r, 25)\n",
    "r = insert(r, 5)\n",
    "r = insert(r, 21)\n",
    "r = insert(r, 55)\n",
    "r = insert(r, 100)\n",
    "inorder(r)\n"
   ]
  },
  {
   "cell_type": "markdown",
   "id": "b6eb09ed",
   "metadata": {},
   "source": [
    "# EX 8.7"
   ]
  },
  {
   "cell_type": "code",
   "execution_count": null,
   "id": "2b0e6d25",
   "metadata": {},
   "outputs": [],
   "source": [
    "import numpy as np\n",
    "\n",
    "class OLS():\n",
    "    def __init__(self):\n",
    "        pass\n",
    "    def fit(self):\n",
    "        pass\n",
    "    def predict(self, y,n):\n",
    "        pass\n",
    "    def summarize(self):\n",
    "        pass\n",
    "    "
   ]
  }
 ],
 "metadata": {
  "kernelspec": {
   "display_name": "Python 3 (ipykernel)",
   "language": "python",
   "name": "python3"
  },
  "language_info": {
   "codemirror_mode": {
    "name": "ipython",
    "version": 3
   },
   "file_extension": ".py",
   "mimetype": "text/x-python",
   "name": "python",
   "nbconvert_exporter": "python",
   "pygments_lexer": "ipython3",
   "version": "3.9.7"
  }
 },
 "nbformat": 4,
 "nbformat_minor": 5
}
