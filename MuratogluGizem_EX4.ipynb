{
 "cells": [
  {
   "cell_type": "markdown",
   "id": "9c3b56e3",
   "metadata": {},
   "source": [
    "#  EX 4.1"
   ]
  },
  {
   "cell_type": "code",
   "execution_count": 121,
   "id": "ec0fc319",
   "metadata": {},
   "outputs": [
    {
     "name": "stdout",
     "output_type": "stream",
     "text": [
      "[1, 5, 6, 8, 9, 10, 2]\n"
     ]
    }
   ],
   "source": [
    "liste=[1,5,6,8,9,10,2]\n",
    "print(liste)"
   ]
  },
  {
   "cell_type": "code",
   "execution_count": 120,
   "id": "f61d1cb9",
   "metadata": {},
   "outputs": [
    {
     "name": "stdout",
     "output_type": "stream",
     "text": [
      "[2, 10, 9, 8, 6, 5, 1]\n"
     ]
    }
   ],
   "source": [
    "liste=[1,5,6,8,9,10,2]\n",
    "liste.reverse()\n",
    "print(liste)"
   ]
  },
  {
   "cell_type": "code",
   "execution_count": 2,
   "id": "4c469a01",
   "metadata": {},
   "outputs": [
    {
     "name": "stdout",
     "output_type": "stream",
     "text": [
      "1\n",
      "5\n",
      "6\n",
      "8\n",
      "9\n",
      "10\n",
      "2\n"
     ]
    }
   ],
   "source": [
    "def prlist(liste):\n",
    "    for i in range(len(liste)):\n",
    "        print(liste[i])\n",
    "liste=[1,5,6,8,9,10,2]\n",
    "prlist(liste)"
   ]
  },
  {
   "cell_type": "markdown",
   "id": "6a21e533",
   "metadata": {},
   "source": [
    "# EX 4.2  "
   ]
  },
  {
   "cell_type": "code",
   "execution_count": 29,
   "id": "05539698",
   "metadata": {},
   "outputs": [],
   "source": [
    "a=[1,444444,444,4444]"
   ]
  },
  {
   "cell_type": "code",
   "execution_count": 30,
   "id": "5e7919fa",
   "metadata": {},
   "outputs": [
    {
     "name": "stdout",
     "output_type": "stream",
     "text": [
      "[1, 444444, 444, 4444]\n"
     ]
    }
   ],
   "source": [
    "print(a)"
   ]
  },
  {
   "cell_type": "code",
   "execution_count": 31,
   "id": "39ee9b36",
   "metadata": {},
   "outputs": [],
   "source": [
    "b=[]\n",
    "b=a"
   ]
  },
  {
   "cell_type": "code",
   "execution_count": 32,
   "id": "18dd0be7",
   "metadata": {},
   "outputs": [
    {
     "name": "stdout",
     "output_type": "stream",
     "text": [
      "[1, 444444, 444, 4444]\n"
     ]
    }
   ],
   "source": [
    "print(a)"
   ]
  },
  {
   "cell_type": "code",
   "execution_count": 33,
   "id": "3b1fdcde",
   "metadata": {},
   "outputs": [
    {
     "name": "stdout",
     "output_type": "stream",
     "text": [
      "[1, 444444, 444, 4444]\n"
     ]
    }
   ],
   "source": [
    "print(b)"
   ]
  },
  {
   "cell_type": "code",
   "execution_count": 34,
   "id": "0bd5a69c",
   "metadata": {},
   "outputs": [
    {
     "name": "stdout",
     "output_type": "stream",
     "text": [
      "[1, 2, 444, 4444]\n"
     ]
    }
   ],
   "source": [
    "b[1]=2\n",
    "print(a)\n",
    "#a is also changed because of b. "
   ]
  },
  {
   "cell_type": "code",
   "execution_count": 35,
   "id": "4f37c587",
   "metadata": {},
   "outputs": [
    {
     "name": "stdout",
     "output_type": "stream",
     "text": [
      "[1, 2, 444, 4444]\n"
     ]
    }
   ],
   "source": [
    "print(b)"
   ]
  },
  {
   "cell_type": "code",
   "execution_count": 36,
   "id": "f912f043",
   "metadata": {},
   "outputs": [],
   "source": [
    "c=a[:]"
   ]
  },
  {
   "cell_type": "code",
   "execution_count": 37,
   "id": "9246b8d7",
   "metadata": {},
   "outputs": [],
   "source": [
    "c[2]=7"
   ]
  },
  {
   "cell_type": "code",
   "execution_count": 38,
   "id": "38bc7cef",
   "metadata": {},
   "outputs": [
    {
     "name": "stdout",
     "output_type": "stream",
     "text": [
      "[1, 2, 444, 4444]\n"
     ]
    }
   ],
   "source": [
    "print(a)\n",
    "#a did not change. Because a and c is not equal. c contains only first a array's element's."
   ]
  },
  {
   "cell_type": "markdown",
   "id": "49ab6b9e",
   "metadata": {},
   "source": [
    "# EX 4.3"
   ]
  },
  {
   "cell_type": "markdown",
   "id": "c52b40fd",
   "metadata": {},
   "source": [
    "3 times a is added in a as a list of list.However in b, new elements are added in b normally. "
   ]
  },
  {
   "cell_type": "markdown",
   "id": "bb71d2fb",
   "metadata": {},
   "source": [
    "# EX 4.4"
   ]
  },
  {
   "cell_type": "code",
   "execution_count": 187,
   "id": "2ad8c2e2",
   "metadata": {},
   "outputs": [
    {
     "name": "stdout",
     "output_type": "stream",
     "text": [
      "3\n"
     ]
    }
   ],
   "source": [
    "listt=[1,2,3,6,5,8]\n",
    "def funforlist(index,listt):\n",
    "    print(listt[index])\n",
    "funforlist(2,listt)"
   ]
  },
  {
   "cell_type": "markdown",
   "id": "ee69b4ac",
   "metadata": {},
   "source": [
    "# EX. 4.5 ?????"
   ]
  },
  {
   "cell_type": "markdown",
   "id": "e98afdae",
   "metadata": {},
   "source": [
    "# EX 4.6"
   ]
  },
  {
   "cell_type": "code",
   "execution_count": 2,
   "id": "bbb98065",
   "metadata": {},
   "outputs": [],
   "source": [
    "my_list=[2,9]"
   ]
  },
  {
   "cell_type": "code",
   "execution_count": 3,
   "id": "911584c3",
   "metadata": {},
   "outputs": [],
   "source": [
    "mylist2=[1,9]"
   ]
  },
  {
   "cell_type": "code",
   "execution_count": 4,
   "id": "700758d9",
   "metadata": {},
   "outputs": [],
   "source": [
    "mylist3=[11,3]"
   ]
  },
  {
   "cell_type": "code",
   "execution_count": 6,
   "id": "7d0bb24d",
   "metadata": {},
   "outputs": [
    {
     "data": {
      "text/plain": [
       "30"
      ]
     },
     "execution_count": 6,
     "metadata": {},
     "output_type": "execute_result"
    }
   ],
   "source": [
    "def evalPoly(lst, x):\n",
    "    total = 0\n",
    "    for power, coeff in enumerate(lst): # ????????????\n",
    "        total += (x**power) * coeff\n",
    "    return total\n",
    "evalPoly(my_list,1)"
   ]
  },
  {
   "cell_type": "markdown",
   "id": "cda2c671",
   "metadata": {},
   "source": [
    "# EX 4.8"
   ]
  },
  {
   "cell_type": "code",
   "execution_count": 18,
   "id": "620f9b24",
   "metadata": {},
   "outputs": [
    {
     "name": "stdout",
     "output_type": "stream",
     "text": [
      "[1, 2, 3, 2, 4]\n"
     ]
    }
   ],
   "source": [
    "newlist=[[1,2,3],[2,4]]\n",
    "emptylist=[]\n",
    "for i in range(len(newlist)):\n",
    "    if (len(newlist[i])):\n",
    "        for j in range(len(newlist[i])):\n",
    "            emptylist.append(newlist[i][j])\n",
    "    else:\n",
    "        emptylist.append(newlist[i])\n",
    "print(emptylist)\n",
    "    \n",
    "    "
   ]
  },
  {
   "cell_type": "markdown",
   "id": "bf450616",
   "metadata": {},
   "source": [
    "# EX 4.9"
   ]
  },
  {
   "cell_type": "code",
   "execution_count": 25,
   "id": "73b432d7",
   "metadata": {},
   "outputs": [],
   "source": [
    "sentence=\"hello , how are you today\""
   ]
  },
  {
   "cell_type": "code",
   "execution_count": 26,
   "id": "187b4379",
   "metadata": {},
   "outputs": [
    {
     "name": "stdout",
     "output_type": "stream",
     "text": [
      "hello\n"
     ]
    }
   ],
   "source": [
    "def findword(sent):\n",
    "    word=max(sent.split(), key=len)\n",
    "    print(word)\n",
    "findword(sentence)"
   ]
  },
  {
   "cell_type": "markdown",
   "id": "aebd740b",
   "metadata": {},
   "source": [
    "# EX 4.10 ???"
   ]
  },
  {
   "cell_type": "markdown",
   "id": "3f9777fa",
   "metadata": {},
   "source": [
    "# EX 4.12"
   ]
  },
  {
   "cell_type": "code",
   "execution_count": 197,
   "id": "a380cf73",
   "metadata": {},
   "outputs": [],
   "source": [
    "nums = range(2,30)"
   ]
  },
  {
   "cell_type": "code",
   "execution_count": 198,
   "id": "359270d1",
   "metadata": {},
   "outputs": [
    {
     "name": "stdout",
     "output_type": "stream",
     "text": [
      "[5, 7, 11, 13, 17, 19, 23, 29]\n"
     ]
    }
   ],
   "source": [
    "nums=filter(lambda x: x%2 and x%3 if x in range(10) else x%2 and x%3 and x%4 and x%5 and x%6 and x%7 and x%9 ,nums)\n",
    "print(list(nums))"
   ]
  }
 ],
 "metadata": {
  "kernelspec": {
   "display_name": "Python 3 (ipykernel)",
   "language": "python",
   "name": "python3"
  },
  "language_info": {
   "codemirror_mode": {
    "name": "ipython",
    "version": 3
   },
   "file_extension": ".py",
   "mimetype": "text/x-python",
   "name": "python",
   "nbconvert_exporter": "python",
   "pygments_lexer": "ipython3",
   "version": "3.9.7"
  }
 },
 "nbformat": 4,
 "nbformat_minor": 5
}
