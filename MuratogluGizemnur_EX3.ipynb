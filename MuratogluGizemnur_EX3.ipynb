{
 "cells": [
  {
   "cell_type": "markdown",
   "id": "e6f82c13",
   "metadata": {},
   "source": [
    "# EX 3.1"
   ]
  },
  {
   "cell_type": "code",
   "execution_count": 1,
   "id": "5dd5c6d9",
   "metadata": {},
   "outputs": [
    {
     "name": "stdout",
     "output_type": "stream",
     "text": [
      "hello world\n"
     ]
    }
   ],
   "source": [
    "def my_func():\n",
    "    print(\"hello world\")\n",
    "my_func()"
   ]
  },
  {
   "cell_type": "code",
   "execution_count": 2,
   "id": "b5819e90",
   "metadata": {},
   "outputs": [
    {
     "data": {
      "text/plain": [
       "'hello gizem'"
      ]
     },
     "execution_count": 2,
     "metadata": {},
     "output_type": "execute_result"
    }
   ],
   "source": [
    "def my_func(name):\n",
    "    return(\"hello \"+ name)\n",
    "my_func(\"gizem\")"
   ]
  },
  {
   "cell_type": "code",
   "execution_count": 3,
   "id": "c9857d02",
   "metadata": {},
   "outputs": [
    {
     "data": {
      "text/plain": [
       "292"
      ]
     },
     "execution_count": 3,
     "metadata": {},
     "output_type": "execute_result"
    }
   ],
   "source": [
    "def poly(x):\n",
    "    return 3*(x**2)-x+2\n",
    "poly(10)"
   ]
  },
  {
   "cell_type": "code",
   "execution_count": null,
   "id": "ed38d54a",
   "metadata": {},
   "outputs": [],
   "source": [
    "#If we use print instead of return, function print something when we call the funtion each time.\n",
    "#However, return keyword does not print anything."
   ]
  },
  {
   "cell_type": "markdown",
   "id": "2236a776",
   "metadata": {},
   "source": [
    "# EX 3.2"
   ]
  },
  {
   "cell_type": "code",
   "execution_count": 6,
   "id": "15fe335a",
   "metadata": {},
   "outputs": [
    {
     "data": {
      "text/plain": [
       "12"
      ]
     },
     "execution_count": 6,
     "metadata": {},
     "output_type": "execute_result"
    }
   ],
   "source": [
    "def polfunct(x):\n",
    "    return 3*(x**2)-x+2\n",
    "polfunct(2)"
   ]
  },
  {
   "cell_type": "markdown",
   "id": "3d14faf6",
   "metadata": {},
   "source": [
    "# EX 3.3"
   ]
  },
  {
   "cell_type": "code",
   "execution_count": 7,
   "id": "637667ba",
   "metadata": {},
   "outputs": [
    {
     "data": {
      "text/plain": [
       "80"
      ]
     },
     "execution_count": 7,
     "metadata": {},
     "output_type": "execute_result"
    }
   ],
   "source": [
    "def my_max(x,y):\n",
    "    if x>=y:\n",
    "        return x\n",
    "    else:\n",
    "        return y\n",
    "my_max(10,80)"
   ]
  },
  {
   "cell_type": "code",
   "execution_count": 5,
   "id": "91de4c5b",
   "metadata": {},
   "outputs": [
    {
     "data": {
      "text/plain": [
       "8"
      ]
     },
     "execution_count": 5,
     "metadata": {},
     "output_type": "execute_result"
    }
   ],
   "source": [
    "def my_max(x,y):\n",
    "    if x>=y:\n",
    "        return x\n",
    "    return y\n",
    "my_max(5,8)"
   ]
  },
  {
   "cell_type": "markdown",
   "id": "b9c226a7",
   "metadata": {},
   "source": [
    "# EX 3.4 "
   ]
  },
  {
   "cell_type": "code",
   "execution_count": 31,
   "id": "56e9eab0",
   "metadata": {},
   "outputs": [
    {
     "data": {
      "text/plain": [
       "True"
      ]
     },
     "execution_count": 31,
     "metadata": {},
     "output_type": "execute_result"
    }
   ],
   "source": [
    "def is_prime(num):\n",
    "    if num > 1:\n",
    "        for i in range(2, int(num/2)):\n",
    "            if (num % i) == 0:\n",
    "                return False\n",
    "        else:\n",
    "            return True\n",
    "    else:\n",
    "        return False\n",
    "is_prime(23)"
   ]
  },
  {
   "cell_type": "code",
   "execution_count": 21,
   "id": "12ac6f02",
   "metadata": {},
   "outputs": [
    {
     "name": "stdout",
     "output_type": "stream",
     "text": [
      "The prime numbers:  [2, 3, 5, 7]\n"
     ]
    }
   ],
   "source": [
    "def prime(x, y):\n",
    "    prime_list = []\n",
    "    for i in range(x, y):\n",
    "        if i == 0 or i == 1:\n",
    "            continue\n",
    "        else:\n",
    "            for j in range(2, int(i/2)+1):\n",
    "                if i % j == 0:\n",
    "                    break\n",
    "            else:\n",
    "                prime_list.append(i)\n",
    "    return prime_list\n",
    "lst = prime(2, 8)\n",
    "if len(lst) == 0:\n",
    "    print(\"There arenot any prime numbers in this range\")\n",
    "else:\n",
    "    print(\"The prime numbers: \", lst)"
   ]
  },
  {
   "cell_type": "code",
   "execution_count": 26,
   "id": "2a819b0d",
   "metadata": {},
   "outputs": [
    {
     "name": "stdout",
     "output_type": "stream",
     "text": [
      "Prime numbers: 3 5 7 "
     ]
    }
   ],
   "source": [
    "numr=10\n",
    "print(\"Prime numbers:\",end=' ')\n",
    "\n",
    "for n in range(3,numr):\n",
    "\n",
    "    for i in range(2,n):\n",
    "\n",
    "        if(n%i==0):\n",
    "\n",
    "            break\n",
    "    else:\n",
    "        print(n,end=' ')   "
   ]
  },
  {
   "cell_type": "markdown",
   "id": "1d9f27dc",
   "metadata": {},
   "source": [
    "# EX 3.5"
   ]
  },
  {
   "cell_type": "code",
   "execution_count": null,
   "id": "82fce9c4",
   "metadata": {},
   "outputs": [],
   "source": []
  }
 ],
 "metadata": {
  "kernelspec": {
   "display_name": "Python 3 (ipykernel)",
   "language": "python",
   "name": "python3"
  },
  "language_info": {
   "codemirror_mode": {
    "name": "ipython",
    "version": 3
   },
   "file_extension": ".py",
   "mimetype": "text/x-python",
   "name": "python",
   "nbconvert_exporter": "python",
   "pygments_lexer": "ipython3",
   "version": "3.9.7"
  }
 },
 "nbformat": 4,
 "nbformat_minor": 5
}
